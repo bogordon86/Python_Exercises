{
 "cells": [
  {
   "cell_type": "code",
   "execution_count": 2,
   "metadata": {},
   "outputs": [],
   "source": [
    "class MyComplexNumber:\n",
    "    # Constructor Methods\n",
    "    def __init__(self, real = 0, imag = 0):\n",
    "        print(\"My ComplexNumber constructor executing...\")\n",
    "        self.real_part = real\n",
    "        self.imag_part = imag\n",
    "        \n",
    "    def displayComplex(self):\n",
    "        print(\"{0} + {1}j\".format(self.real_part,self.imag_part))"
   ]
  },
  {
   "cell_type": "code",
   "execution_count": 13,
   "metadata": {},
   "outputs": [
    {
     "name": "stdout",
     "output_type": "stream",
     "text": [
      "My ComplexNumber constructor executing...\n",
      "40 + 50j\n"
     ]
    }
   ],
   "source": [
    "#Create a new object against MyComplexNumber class\n",
    "complx1 = MyComplexNumber(40,50)\n",
    "\n",
    "#Calling the DisplayComplex function\n",
    "#Output = 40 + 50j\n",
    "complx1.displayComplex()\n"
   ]
  },
  {
   "cell_type": "code",
   "execution_count": 9,
   "metadata": {},
   "outputs": [
    {
     "name": "stdout",
     "output_type": "stream",
     "text": [
      "My ComplexNumber constructor executing...\n",
      "60 + 70j\n",
      "60 70 80\n"
     ]
    }
   ],
   "source": [
    "#Create another object against MyComplexNumber class\n",
    "#Also create a new attribute\n",
    "complx2 = MyComplexNumber(60,70)\n",
    "complx2.new_attribute = 80\n",
    "complx2.displayComplex()\n",
    "\n",
    "print(complx2.real_part, complx2.imag_part, complx2.new_attribute)\n"
   ]
  },
  {
   "cell_type": "code",
   "execution_count": 10,
   "metadata": {},
   "outputs": [
    {
     "ename": "NameError",
     "evalue": "name 'complx1' is not defined",
     "output_type": "error",
     "traceback": [
      "\u001b[1;31m---------------------------------------------------------------------------\u001b[0m",
      "\u001b[1;31mNameError\u001b[0m                                 Traceback (most recent call last)",
      "\u001b[1;32m<ipython-input-10-8ddf2417847f>\u001b[0m in \u001b[0;36m<module>\u001b[1;34m\u001b[0m\n\u001b[0;32m      1\u001b[0m \u001b[1;31m#Deleting object attributes and the object\u001b[0m\u001b[1;33m\u001b[0m\u001b[1;33m\u001b[0m\u001b[1;33m\u001b[0m\u001b[0m\n\u001b[1;32m----> 2\u001b[1;33m \u001b[0mprint\u001b[0m\u001b[1;33m(\u001b[0m\u001b[0mcomplx1\u001b[0m\u001b[1;33m)\u001b[0m\u001b[1;33m\u001b[0m\u001b[1;33m\u001b[0m\u001b[0m\n\u001b[0m\u001b[0;32m      3\u001b[0m \u001b[1;32mdel\u001b[0m \u001b[0mcomplx1\u001b[0m\u001b[1;33m.\u001b[0m\u001b[0mreal_part\u001b[0m\u001b[1;33m\u001b[0m\u001b[1;33m\u001b[0m\u001b[0m\n\u001b[0;32m      4\u001b[0m \u001b[1;32mdel\u001b[0m \u001b[0mcomplx1\u001b[0m\u001b[1;33m\u001b[0m\u001b[1;33m\u001b[0m\u001b[0m\n",
      "\u001b[1;31mNameError\u001b[0m: name 'complx1' is not defined"
     ]
    }
   ],
   "source": [
    "#Deleting object attributes and the object\n",
    "print(complx1)\n",
    "del complx1.real_part\n",
    "del complx1\n",
    "#Should expect to see a name error after deletion"
   ]
  },
  {
   "cell_type": "code",
   "execution_count": 14,
   "metadata": {},
   "outputs": [
    {
     "name": "stdout",
     "output_type": "stream",
     "text": [
      "<__main__.MyComplexNumber object at 0x000001BC9CCD2B08>\n"
     ]
    }
   ],
   "source": [
    "print(complx1)"
   ]
  }
 ],
 "metadata": {
  "kernelspec": {
   "display_name": "Python 3",
   "language": "python",
   "name": "python3"
  },
  "language_info": {
   "codemirror_mode": {
    "name": "ipython",
    "version": 3
   },
   "file_extension": ".py",
   "mimetype": "text/x-python",
   "name": "python",
   "nbconvert_exporter": "python",
   "pygments_lexer": "ipython3",
   "version": "3.7.6"
  }
 },
 "nbformat": 4,
 "nbformat_minor": 4
}
