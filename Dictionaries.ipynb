{
 "cells": [
  {
   "cell_type": "code",
   "execution_count": 4,
   "metadata": {},
   "outputs": [
    {
     "name": "stdout",
     "output_type": "stream",
     "text": [
      "{1: 'hello', 2: 'hi', 3: 'hola'}\n",
      "hello\n",
      "hi\n"
     ]
    }
   ],
   "source": [
    "#Accessing elements from a dictionary\n",
    "new_dict = {1:'hello', 2: 'hi', 3:  'hola'}\n",
    "print(new_dict)\n",
    "print(new_dict[1])\n",
    "print(new_dict.get(2))"
   ]
  },
  {
   "cell_type": "code",
   "execution_count": 7,
   "metadata": {},
   "outputs": [
    {
     "name": "stdout",
     "output_type": "stream",
     "text": [
      "{1: 'Hey', 2: 'hi', 3: 'hola', 4: 'Namaste'}\n",
      "{1: 'Hey', 2: 'hi', 3: 'hola', 4: 'Namaste'}\n"
     ]
    }
   ],
   "source": [
    "#Updating the value\n",
    "new_dict[1] = 'Hey'\n",
    "print(new_dict)\n",
    "\n",
    "#Adding value\n",
    "new_dict[4] = 'Namaste'\n",
    "print(new_dict)"
   ]
  },
  {
   "cell_type": "code",
   "execution_count": 15,
   "metadata": {},
   "outputs": [
    {
     "name": "stdout",
     "output_type": "stream",
     "text": [
      "{1: 1, 2: 4, 3: 9, 4: 16, 5: 25}\n",
      "(5, 25)\n",
      "{1: 1, 2: 4, 3: 9, 4: 16}\n",
      "{2: 4, 3: 9, 4: 16}\n"
     ]
    }
   ],
   "source": [
    "#Creating a new dictionary\n",
    "squares = {1:1, 2:4, 3:9, 4:16, 5:25}\n",
    "print(squares)\n",
    "\n",
    "#Remove all items\n",
    "#squares.clear()\n",
    "\n",
    "#Remove a particular item\n",
    "print(squares.popitem())\n",
    "print(squares)\n",
    "\n",
    "#delete a particular item\n",
    "del squares[1]\n",
    "\n",
    "print(squares)"
   ]
  },
  {
   "cell_type": "code",
   "execution_count": 22,
   "metadata": {},
   "outputs": [
    {
     "name": "stdout",
     "output_type": "stream",
     "text": [
      "{0: 0, 1: 1, 2: 4, 3: 9, 4: 16, 5: 25}\n",
      "True\n",
      "True\n",
      "False\n"
     ]
    }
   ],
   "source": [
    "#Creating a new dictionary using comprehension\n",
    "squares = {x: x*x for x in range(6)}\n",
    "print(squares)\n",
    "\n",
    "#Dictionary membership test\n",
    "squares = {1:1, 3:9, 5:25, 7:49, 9:81}\n",
    "\n",
    "print(1 in squares)\n",
    "\n",
    "print(2 not in squares)\n",
    "\n",
    "#membership tests for key only not value\n",
    "print(49 in squares)"
   ]
  },
  {
   "cell_type": "code",
   "execution_count": 26,
   "metadata": {},
   "outputs": [
    {
     "name": "stdout",
     "output_type": "stream",
     "text": [
      "1\n",
      "9\n",
      "25\n",
      "49\n",
      "81\n",
      "5\n",
      "[1, 3, 5, 7, 9]\n"
     ]
    }
   ],
   "source": [
    "#Iterating through a dictionary\n",
    "squares = {1:1, 3:9, 5:25, 7:49, 9:81}\n",
    "for i in squares:\n",
    "    print(squares[i])\n",
    "    \n",
    "#Using built-in functions in a dictionary\n",
    "print(len(squares)) #Prints the length of dictionary\n",
    "\n",
    "print(sorted(squares)) #Prints the dictionary in sorted order"
   ]
  }
 ],
 "metadata": {
  "kernelspec": {
   "display_name": "Python 3",
   "language": "python",
   "name": "python3"
  },
  "language_info": {
   "codemirror_mode": {
    "name": "ipython",
    "version": 3
   },
   "file_extension": ".py",
   "mimetype": "text/x-python",
   "name": "python",
   "nbconvert_exporter": "python",
   "pygments_lexer": "ipython3",
   "version": "3.7.6"
  }
 },
 "nbformat": 4,
 "nbformat_minor": 4
}
