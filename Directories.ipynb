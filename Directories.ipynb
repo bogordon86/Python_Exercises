{
 "cells": [
  {
   "cell_type": "code",
   "execution_count": null,
   "metadata": {},
   "outputs": [],
   "source": [
    "import os\n",
    "print(os.getcwd()) #Returns the present working directory\n",
    "print(os.getcwdb()) #Returns present working directory as a byte objectz"
   ]
  },
  {
   "cell_type": "code",
   "execution_count": null,
   "metadata": {},
   "outputs": [],
   "source": [
    "#os.chdir('C:\\\\Users\\\\gordo\\\\Documents')#Use to change directory\n",
    "os.chdir('C:\\\\Users\\\\gordo\\\\Desktop\\\\Data_Analysis\\\\Python_Exercises')\n",
    "print(os.getcwd())\n",
    "\n",
    "#Can also print all the files and directories inside the diretory\n",
    "print(os.listdir())"
   ]
  },
  {
   "cell_type": "code",
   "execution_count": null,
   "metadata": {},
   "outputs": [],
   "source": [
    "#Used to make a new directory\n",
    "#os.mkdir('Test_1')\n",
    "\n",
    "#Used to rename a directory\n",
    "os.rename('Test_1','Test_2')"
   ]
  },
  {
   "cell_type": "code",
   "execution_count": null,
   "metadata": {},
   "outputs": [],
   "source": [
    "#Removing a file and directory\n",
    "os.remove('Untitled1.ipynb') #Used to remove a file\n",
    "os.rmdir('Test_2')    #used to remove a directory"
   ]
  },
  {
   "cell_type": "code",
   "execution_count": null,
   "metadata": {},
   "outputs": [],
   "source": [
    "os.chdir('C:\\\\Users\\\\gordo')"
   ]
  }
 ],
 "metadata": {
  "kernelspec": {
   "display_name": "Python 3",
   "language": "python",
   "name": "python3"
  },
  "language_info": {
   "codemirror_mode": {
    "name": "ipython",
    "version": 3
   },
   "file_extension": ".py",
   "mimetype": "text/x-python",
   "name": "python",
   "nbconvert_exporter": "python",
   "pygments_lexer": "ipython3",
   "version": "3.7.6"
  }
 },
 "nbformat": 4,
 "nbformat_minor": 4
}
