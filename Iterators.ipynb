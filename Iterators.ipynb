{
 "cells": [
  {
   "cell_type": "code",
   "execution_count": 5,
   "metadata": {},
   "outputs": [
    {
     "name": "stdout",
     "output_type": "stream",
     "text": [
      "44\n",
      "77\n",
      "11\n",
      "33\n"
     ]
    }
   ],
   "source": [
    "#Defining a list\n",
    "our_list = [44, 77, 11, 33]\n",
    "\n",
    "#Get iterator using iter() method\n",
    "our_iter = iter(our_list)\n",
    "\n",
    "## iterate through it using next() method\n",
    "\n",
    "#prints 44\n",
    "print(next(our_iter))\n",
    "\n",
    "# prints 77\n",
    "print(next(our_iter))\n",
    "\n",
    "## next(obj) is same as calling obj.__next__() method\n",
    "\n",
    "#prints 11\n",
    "print(our_iter.__next__())\n",
    "\n",
    "#prints 33\n",
    "print(our_iter.__next__())\n",
    "\n",
    "#This will raise an error as there are no items left\n",
    "#print(our_iter.__next__())\n",
    "#next(our_iter)"
   ]
  },
  {
   "cell_type": "code",
   "execution_count": 9,
   "metadata": {},
   "outputs": [
    {
     "name": "stdout",
     "output_type": "stream",
     "text": [
      "Class to implement an iterator of powers of two\n",
      "1\n",
      "2\n",
      "4\n"
     ]
    }
   ],
   "source": [
    "#Creating a custom iterator\n",
    "class Pow_of_Two:\n",
    "    '''Class to implement an iterator of powers of two'''\n",
    "    \n",
    "    def __init__(self, max = 0):\n",
    "        self.max = max\n",
    "    \n",
    "    def __iter__(self):\n",
    "        self.n = 0\n",
    "        return self\n",
    "    \n",
    "    def __next__(self):\n",
    "        if self.n <= self.max:\n",
    "            result = 2 ** self.n\n",
    "            self.n += 1\n",
    "            return result\n",
    "        else:\n",
    "            raise StopIteration\n",
    "\n",
    "print(Pow_of_Two.__doc__)\n",
    "a = Pow_of_Two(4)\n",
    "i = iter(a)\n",
    "print(i.__next__())\n",
    "print(next(i))\n",
    "print(next(i))"
   ]
  },
  {
   "cell_type": "code",
   "execution_count": 13,
   "metadata": {},
   "outputs": [
    {
     "name": "stdout",
     "output_type": "stream",
     "text": [
      "1\n",
      "3\n",
      "5\n"
     ]
    }
   ],
   "source": [
    "#Creating an infinite custom iterator\n",
    "class Infinite_Iter:\n",
    "    \"\"\"Infinite iterator to return all odd numbers\"\"\"\n",
    "    \n",
    "    def __iter__(self):\n",
    "        self.num = 1\n",
    "        return self\n",
    "    \n",
    "    def __next__(self):\n",
    "        num = self.num\n",
    "        self.num += 2\n",
    "        return num\n",
    "\n",
    "i = Infinite_Iter()\n",
    "a = iter(i)\n",
    "print(next(a))\n",
    "print(next(a))\n",
    "print(next(a))\n",
    "    "
   ]
  }
 ],
 "metadata": {
  "kernelspec": {
   "display_name": "Python 3",
   "language": "python",
   "name": "python3"
  },
  "language_info": {
   "codemirror_mode": {
    "name": "ipython",
    "version": 3
   },
   "file_extension": ".py",
   "mimetype": "text/x-python",
   "name": "python",
   "nbconvert_exporter": "python",
   "pygments_lexer": "ipython3",
   "version": "3.7.6"
  }
 },
 "nbformat": 4,
 "nbformat_minor": 4
}
