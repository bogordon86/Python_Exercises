{
 "cells": [
  {
   "cell_type": "code",
   "execution_count": 11,
   "metadata": {},
   "outputs": [
    {
     "name": "stdout",
     "output_type": "stream",
     "text": [
      "id(2) = 140727879901616\n",
      "id(a) = 140727879901616\n",
      "id(a) = 140727879901648\n",
      "id(3) = 140727879901648\n",
      "id(2) = 140727879901616\n"
     ]
    }
   ],
   "source": [
    "#Name (also called identifier) is simply a name given to objects\n",
    "\n",
    "#We can get the address (in RAM) of some object through the built-in function, id()\n",
    "#Note you may get a different value of id\n",
    "\n",
    "a = 2\n",
    "#output: id(2) = 140727879901616\n",
    "print('id(2) =', id(2))\n",
    "\n",
    "#Output id(a) = 140727879901616\n",
    "print('id(a) =', id(a))\n",
    "\n",
    "a = a+1\n",
    "#Output id(a) = 140727879901648\n",
    "print('id(a) =', id(a))\n",
    "\n",
    "#Output id(3) = 140727879901648\n",
    "print('id(3) =', id(3))\n",
    "\n",
    "b = 2\n",
    "# Output id(2) = 140727879901616\n",
    "print('id(2) =', id(2))\n"
   ]
  },
  {
   "cell_type": "code",
   "execution_count": 13,
   "metadata": {},
   "outputs": [
    {
     "name": "stdout",
     "output_type": "stream",
     "text": [
      "a = 10\n",
      "a = 30\n",
      "a = 30\n",
      "a = 30\n"
     ]
    }
   ],
   "source": [
    "#Scope\n",
    "def outer_function():\n",
    "    global a\n",
    "    a = 20\n",
    "    \n",
    "    def inner_function():\n",
    "        global a\n",
    "        a = 30\n",
    "        print('a =', a)\n",
    "    \n",
    "    inner_function()\n",
    "    print('a =', a)\n",
    "\n",
    "a = 10\n",
    "print('a =', a)\n",
    "outer_function()\n",
    "print('a =', a)"
   ]
  },
  {
   "cell_type": "code",
   "execution_count": null,
   "metadata": {},
   "outputs": [],
   "source": []
  }
 ],
 "metadata": {
  "kernelspec": {
   "display_name": "Python 3",
   "language": "python",
   "name": "python3"
  },
  "language_info": {
   "codemirror_mode": {
    "name": "ipython",
    "version": 3
   },
   "file_extension": ".py",
   "mimetype": "text/x-python",
   "name": "python",
   "nbconvert_exporter": "python",
   "pygments_lexer": "ipython3",
   "version": "3.7.6"
  }
 },
 "nbformat": 4,
 "nbformat_minor": 4
}
