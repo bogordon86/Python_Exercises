{
 "cells": [
  {
   "cell_type": "code",
   "execution_count": 4,
   "metadata": {},
   "outputs": [
    {
     "name": "stdout",
     "output_type": "stream",
     "text": [
      "Welcome\n",
      "Welcome\n",
      "Welcome\n",
      "Welcome\n",
      "to the world\n",
      "of Python\n"
     ]
    }
   ],
   "source": [
    "# Different ways to define a string in Python\n",
    "mystr1 = 'Welcome'\n",
    "print(mystr1)\n",
    "\n",
    "mystr2 = \"Welcome\"\n",
    "print(mystr2)\n",
    "\n",
    "mystr3 = '''Welcome'''\n",
    "print(mystr3)\n",
    "\n",
    "#Triple quoted strings can extend multiple lines\n",
    "mystr3 = \"\"\"Welcome\n",
    "to the world\n",
    "of Python\"\"\"\n",
    "print(mystr3)"
   ]
  },
  {
   "cell_type": "code",
   "execution_count": 7,
   "metadata": {},
   "outputs": [
    {
     "name": "stdout",
     "output_type": "stream",
     "text": [
      "mystr =  language\n",
      "mystr[0] =  l\n",
      "mystr[-1] =  e\n",
      "mystr[1:5] =  angu\n",
      "mystr[5:-2] =  a\n"
     ]
    }
   ],
   "source": [
    "#Accessing the characters in a string\n",
    "mystr = 'language'\n",
    "print('mystr = ', mystr)\n",
    "\n",
    "print('mystr[0] = ', mystr[0])\n",
    "print('mystr[-1] = ', mystr[-1])\n",
    "print('mystr[1:5] = ', mystr[1:5])\n",
    "print('mystr[5:-2] = ', mystr[5:-2]) #they are actually the same\n",
    "#print(mystr[10]) index out of range error"
   ]
  },
  {
   "cell_type": "code",
   "execution_count": 10,
   "metadata": {},
   "outputs": [
    {
     "name": "stdout",
     "output_type": "stream",
     "text": [
      "language\n",
      "programming\n"
     ]
    }
   ],
   "source": [
    "#Strings are immutable\n",
    "#but different strings can be assigned\n",
    "\n",
    "mystr = 'language'\n",
    "print(mystr)\n",
    "\n",
    "mystr = 'programming'\n",
    "print(mystr)\n",
    "\n",
    "#mystr[3] = 'x' #Type error string object does not support item assignment"
   ]
  },
  {
   "cell_type": "code",
   "execution_count": 12,
   "metadata": {},
   "outputs": [
    {
     "name": "stdout",
     "output_type": "stream",
     "text": [
      "mystr1 + mystr2 =  Welcometo all\n",
      "mystr1 * 3 = WelcomeWelcomeWelcome\n"
     ]
    }
   ],
   "source": [
    "#Concatenation of strings\n",
    "mystr1 = 'Welcome'\n",
    "mystr2 = 'to all'\n",
    "\n",
    "#using + \n",
    "print('mystr1 + mystr2 = ', mystr1 + mystr2)\n",
    "\n",
    "#using *\n",
    "print('mystr1 * 3 =', mystr1 * 3)"
   ]
  },
  {
   "cell_type": "code",
   "execution_count": 14,
   "metadata": {},
   "outputs": [
    {
     "name": "stdout",
     "output_type": "stream",
     "text": [
      "0 times 1 letter has been found\n"
     ]
    }
   ],
   "source": [
    "#Iterating through a string\n",
    "letter_count = 0\n",
    "for letters in 'Hellow Word':\n",
    "    if(letters == '1'):\n",
    "        letter_count += 1\n",
    "print(letter_count,'times 1 letter has been found')"
   ]
  },
  {
   "cell_type": "code",
   "execution_count": 16,
   "metadata": {},
   "outputs": [
    {
     "name": "stdout",
     "output_type": "stream",
     "text": [
      "False\n",
      "True\n",
      "False\n",
      "True\n"
     ]
    }
   ],
   "source": [
    "#String membership\n",
    "print('1' in \"hello\")\n",
    "print('1' not in \"hello\")\n",
    "print('b' in \"hello\")\n",
    "print('b' not in \"hello\")"
   ]
  },
  {
   "cell_type": "code",
   "execution_count": 18,
   "metadata": {},
   "outputs": [
    {
     "name": "stdout",
     "output_type": "stream",
     "text": [
      "list(enumerate(mystr))  [(0, 'u'), (1, 'n'), (2, 'i'), (3, 'v'), (4, 'e'), (5, 'r'), (6, 's'), (7, 'i'), (8, 't'), (9, 'y')]\n",
      "len(mystr) =  10\n"
     ]
    }
   ],
   "source": [
    "#Built-in functions\n",
    "mystr = 'university'\n",
    "\n",
    "#using enumerate()\n",
    "my_list_enumerate = list(enumerate(mystr))\n",
    "print('list(enumerate(mystr)) ', my_list_enumerate)\n",
    "\n",
    "#Using character count\n",
    "print('len(mystr) = ', len(mystr))"
   ]
  },
  {
   "cell_type": "code",
   "execution_count": 21,
   "metadata": {},
   "outputs": [
    {
     "name": "stdout",
     "output_type": "stream",
     "text": [
      "tell me \"what's your name?\"\n",
      "tell me \"what's your name?\"\n",
      "tell me 'what's your name?'\n",
      "tell me \"what's your name?\"\n"
     ]
    }
   ],
   "source": [
    "#String formatting using escape sequence\n",
    "#print(\"tell me \"what's your name?\"\")\n",
    "\n",
    "#Using triple quotes\n",
    "print('''tell me \"what's your name?\"''')\n",
    "\n",
    "#Need the \\ to not close out the quotes in the below examples\n",
    "#Escaping single quotes\n",
    "print('tell me \"what\\'s your name?\"')\n",
    "      \n",
    "#Escaping single quotes\n",
    "print(\"tell me 'what\\'s your name?'\")\n",
    "      \n",
    "#Escaping double quotes\n",
    "print(\"tell me \\\"what's your name?\\\"\")"
   ]
  },
  {
   "cell_type": "code",
   "execution_count": 23,
   "metadata": {},
   "outputs": [
    {
     "name": "stdout",
     "output_type": "stream",
     "text": [
      "C:\\User\\user\\mydata.txt\n",
      "this line has a new line \n",
      "character\n",
      "this line has a tab \t character\n",
      "ABC written in ABC (HEX) representation\n"
     ]
    }
   ],
   "source": [
    "#Demonstrations of using the \\ \n",
    "print(\"C:\\\\User\\\\user\\\\mydata.txt\")\n",
    "print(\"this line has a new line \\ncharacter\")\n",
    "print(\"this line has a tab \\t character\")\n",
    "print(\"ABC written in \\x41\\x42\\x43 (HEX) representation\")"
   ]
  },
  {
   "cell_type": "code",
   "execution_count": 32,
   "metadata": {},
   "outputs": [
    {
     "name": "stdout",
     "output_type": "stream",
     "text": [
      "Today is Sunday\n",
      "Today is Sunday\n",
      "Today is Sunday\n"
     ]
    }
   ],
   "source": [
    "#Format() method\n",
    "#default(implicit) order\n",
    "default_order = \"{} {} {}\".format('Today','is','Sunday')\n",
    "print(default_order)\n",
    "\n",
    "#Order using positional argument\n",
    "positional_order = \"{1} {0} {2}\".format('is','Today','Sunday')\n",
    "print(positional_order)\n",
    "\n",
    "#Order using keyword argument\n",
    "keyword_order = \"{t} {i} {s}\".format(i='is',t='Today',s='Sunday')\n",
    "print(keyword_order)"
   ]
  },
  {
   "cell_type": "code",
   "execution_count": 33,
   "metadata": {},
   "outputs": [
    {
     "name": "stdout",
     "output_type": "stream",
     "text": [
      "Required binary representation of 20 is 10100\n",
      "Exponent representation: 1.566345e+03\n",
      "One third is: 0.333\n"
     ]
    }
   ],
   "source": [
    "#Formatting numbers\n",
    "print(\"Required binary representation of {0} is {0:b}\".format(20))\n",
    "\n",
    "#Formatting floats\n",
    "print(\"Exponent representation: {0:e}\".format(1566.345))\n",
    "\n",
    "#Round off\n",
    "print(\"One third is: {0:.3f}\".format(1/3))"
   ]
  },
  {
   "cell_type": "code",
   "execution_count": 34,
   "metadata": {},
   "outputs": [
    {
     "name": "stdout",
     "output_type": "stream",
     "text": [
      "good morning to all\n",
      "GOOD MORNING TO ALL\n",
      "13\n",
      "-1\n",
      "gOOD moRNing tO everybody\n",
      "gOOD moRNing tO alL\n"
     ]
    }
   ],
   "source": [
    "#String methods\n",
    "print (\"gOOD moRNing tO alL\".lower())\n",
    "print (\"gOOD moRNing tO alL\".upper())\n",
    "print (\"gOOD moRNing tO alL\".find('tO'))\n",
    "print (\"gOOD moRNing tO alL\".find('to')) #doesn't get a match\n",
    "print (\"gOOD moRNing tO alL\".replace('alL','everybody'))\n",
    "print (\"gOOD moRNing tO alL\".replace('all','everybody')) #not matched so no change"
   ]
  }
 ],
 "metadata": {
  "kernelspec": {
   "display_name": "Python 3",
   "language": "python",
   "name": "python3"
  },
  "language_info": {
   "codemirror_mode": {
    "name": "ipython",
    "version": 3
   },
   "file_extension": ".py",
   "mimetype": "text/x-python",
   "name": "python",
   "nbconvert_exporter": "python",
   "pygments_lexer": "ipython3",
   "version": "3.7.6"
  }
 },
 "nbformat": 4,
 "nbformat_minor": 4
}
